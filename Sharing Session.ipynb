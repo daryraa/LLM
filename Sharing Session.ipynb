{
 "cells": [
  {
   "cell_type": "markdown",
   "metadata": {},
   "source": [
    "![](assets/gen_ai_hierarchy.png)"
   ]
  },
  {
   "cell_type": "markdown",
   "metadata": {},
   "source": [
    "Gambar tersebut menunjukkan hubungan hierarkis antara Artificial Intelligence (AI), Machine Learning (ML), Deep Learning, dan Generative AI. Berikut penjelasan tiap lapisan dari luar ke dalam:\n",
    "\n",
    "1. **Artificial Intelligence (AI)**:\n",
    "   - AI adalah bidang studi yang bertujuan untuk menciptakan mesin cerdas yang dapat melakukan tugas-tugas yang biasanya membutuhkan kecerdasan manusia.\n",
    "   - Contohnya adalah pengenalan suara, pengolahan bahasa alami, dan sistem rekomendasi.\n",
    "\n",
    "2. **Machine Learning (ML)**:\n",
    "   - ML adalah cabang dari AI yang fokus pada pembuatan mesin cerdas yang dapat belajar dari data. Artinya, mesin tidak perlu diprogram secara eksplisit untuk setiap tugas, melainkan belajar dari pola data.\n",
    "   - Salah satu cabang terkenal dari ML adalah **Optimisasi**.\n",
    "\n",
    "3. **Deep Learning**:\n",
    "   - Deep Learning adalah subset dari Machine Learning yang berbasis pada jaringan saraf tiruan (**Artificial Neural Networks** atau ANNs).\n",
    "   - Deep Learning memanfaatkan jaringan saraf yang terdiri dari banyak lapisan untuk mempelajari pola yang kompleks dari data.\n",
    "   - Contohnya adalah **Convolutional Neural Networks (CNNs)** untuk pengenalan gambar dan **Recurrent Neural Networks (RNNs)** untuk pemrosesan data berurutan seperti teks atau suara.\n",
    "\n",
    "4. **Generative AI**:\n",
    "   - Generative AI adalah jenis jaringan saraf tiruan (ANNs) yang berfokus pada menghasilkan data baru yang menyerupai data pelatihannya.\n",
    "   - Contohnya adalah **GANs (Generative Adversarial Networks)** dan **LLMs (Large Language Models)** seperti GPT.\n",
    "   - Generative AI digunakan untuk membuat teks, gambar, video, suara, dan data lainnya secara sintetis, sering kali dengan kualitas yang menyerupai buatan manusia."
   ]
  },
  {
   "cell_type": "markdown",
   "metadata": {},
   "source": [
    "## LLM Capability, Limitation, and Consideration\n",
    "\n",
    "Saat ini, LLM banyak dipilih karena keandalan dan kemampuannya untuk memahami konteks yang rumit. Selain itu, LLM juga mampu untuk menghasilkan teks dan narasi yang hampir menyamai produk bahasa yang ditulis oleh manusia. \n",
    "\n",
    "Berikut ini beberapa contoh task yang dapat diaplikasikan oleh LLM.\n",
    "\n",
    "* **Text Generation**: menghasilkan narasi dengan gaya bahasa yang hampir menyamai kemampuan manusia.\n",
    "* **Translation**: menerjemahkan teks ke dalam bahasa yang berbeda secara akurat.\n",
    "* **Summarization**: membuat ringkasan singkat dari teks yang panjang.\n",
    "* **Question-Answering**: menjawab sebuah pertanyaan berdasarkan konteks yang diberikan.\n",
    "\n",
    "Akan tetapi, perlu diperhatikan bahwa saat ini LLM masih menjadi topik riset yang aktif. Para peneliti masih mengembangkan metode yang lebih advanced untuk mengurangi beberapa limitasi dari LLM, seperti:\n",
    "\n",
    "* **Misleading Output** \n",
    "    \n",
    "    Sebagai produk AI yang sangat powerful, output yang dihasilkan oleh LLM dapat terlihat sangat meyakinkan. Akan tetapi, sebagai pengguna, kita perlu bijak dalam mengonsumsi konten yang dibuat oleh AI. Secara aktif, kita perlu melakukan verifikasi fakta melalui sumber-sumber yang kredibel.\n",
    "\n",
    "* **Technical Limitation**\n",
    "\n",
    "    Di balik kapabilitas LLM dalam task yang melibatkan natural language, masih terdapat concern terkait limitasi teknis. Terdapat situasi di mana AI tidak dapat memahami konteks secara mendalam atau menghasilkan respons yang sesuai dengan harapan pengguna. Selain itu, LLM memerlukan sumber daya komputasi yang sangat tinggi untuk berfungsi secara optimal, yang dapat menjadi hambatan bagi pengguna dengan keterbatasan infrastruktur teknologi.\n",
    "\n",
    "* **Laws and Rights-Related Issue**\n",
    "\n",
    "    Sebagai teknologi yang terus berkembang, penggunaan LLM juga dihadapkan pada isu-isu hukum dan hak. Misalnya, hak cipta, privasi, dan perlindungan data adalah aspek-aspek penting yang perlu dipertimbangkan saat menggunakan AI. \n",
    "    \n",
    "    Pengguna harus memastikan bahwa mereka mematuhi semua regulasi yang relevan dan menghormati hak-hak individu dan entitas lain dalam penggunaan dan penyebaran konten yang dihasilkan oleh AI.\n",
    "\n",
    "Mempertimbangkan kelebihan dan limitasi yang ada, sebagai end-user, kita perlu cermat, selektif, dan aware dalam mempergunakan LLM. Kemampuan LLM yang powerful akan semakin maksimal selama dibersamai dengan konsiderasi berikut:\n",
    "\n",
    "* **Tidak Menganggap Output LLM sebagai Final Result** \n",
    "    \n",
    "    Output dari LLM tidak dijadikan sebagai hasil akhir, melainkan hanya sebagai pendukung tersier. Kita perlu tetap melakukan verifikasi dan cross-check dengan sumber lain yang terpercaya untuk memastikan akurasi dan relevansi informasi.\n",
    "\n",
    "* **Keputusan Kompleks dan Terkait Makhluk Hidup**\n",
    "    \n",
    "    Keputusan yang diambil dari output LLM tidak digunakan dalam pertimbangan yang kompleks dan menyangkut keperluan yang berkaitan dengan makhluk hidup, seperti keputusan medis, hukum, atau keuangan, tanpa konsultasi dengan ahli yang kompeten di bidang tersebut.\n",
    "\n",
    "* **Evaluasi Kritis dan Penyesuaian Konteks**\n",
    "    \n",
    "    Selalu melakukan evaluasi kritis terhadap output yang dihasilkan oleh LLM, termasuk memahami konteks dan bias yang mungkin ada dalam data pelatihannya. Penyesuaian dan interpretasi yang bijak diperlukan untuk memastikan bahwa informasi tersebut sesuai dengan konteks yang dibutuhkan.\n",
    "\n",
    "* **Keamanan dan Privasi Data**\n",
    "\n",
    "    Memperhatikan aspek keamanan dan privasi data saat menggunakan LLM. Jangan memasukkan informasi pribadi atau sensitif yang dapat disalahgunakan, dan pastikan bahwa penggunaan LLM mematuhi kebijakan privasi dan regulasi yang berlaku.\n"
   ]
  },
  {
   "cell_type": "markdown",
   "metadata": {},
   "source": [
    "\n",
    "Sebelum kita bisa menggunakan model generatif dari Google (Gemini), kita perlu mempersiapkan lingkungan kita terlebih dahulu. Salah satu langkah awal yang umum dilakukan adalah mengimpor modul yang dibutuhkan dan memuat file konfigurasi .env jika kita menggunakan variabel sensitif seperti API key."
   ]
  },
  {
   "cell_type": "code",
   "execution_count": 1,
   "metadata": {},
   "outputs": [],
   "source": [
    "# untuk meng-import fungsi load_dotenv() dari package dotenv\n",
    "from dotenv import load_dotenv"
   ]
  },
  {
   "cell_type": "code",
   "execution_count": 2,
   "metadata": {},
   "outputs": [
    {
     "data": {
      "text/plain": [
       "True"
      ]
     },
     "execution_count": 2,
     "metadata": {},
     "output_type": "execute_result"
    }
   ],
   "source": [
    "# load file .env secara otomatis\n",
    "load_dotenv()"
   ]
  },
  {
   "cell_type": "markdown",
   "metadata": {},
   "source": [
    "Apa yang terjadi di sini?\n",
    "Mengimpor load_dotenv: Fungsi ini berasal dari package dotenv, yang memungkinkan kita untuk membaca file .env. File .env biasanya digunakan untuk menyimpan variabel sensitif seperti API key, tanpa harus menuliskannya langsung dalam kode.\n",
    "\n",
    "load_dotenv(): Dengan satu baris ini, kita memastikan bahwa semua variabel di file .env dimuat ke dalam lingkungan Python, sehingga kita bisa menggunakannya langsung."
   ]
  },
  {
   "cell_type": "markdown",
   "metadata": {},
   "source": [
    "## Membuat Objek untuk Google Generative AI"
   ]
  },
  {
   "cell_type": "markdown",
   "metadata": {},
   "source": [
    "### Experiment 1: Your First Call to Gemini ♊"
   ]
  },
  {
   "cell_type": "markdown",
   "metadata": {},
   "source": [
    "Setelah lingkungan siap, kita akan membuat objek untuk mengakses model Google Generative AI. Objek ini akan menjadi \"jembatan\" antara kode kita dan model yang ada di cloud."
   ]
  },
  {
   "cell_type": "code",
   "execution_count": 3,
   "metadata": {},
   "outputs": [],
   "source": [
    "from langchain_google_genai import GoogleGenerativeAI"
   ]
  },
  {
   "cell_type": "code",
   "execution_count": 4,
   "metadata": {},
   "outputs": [],
   "source": [
    "# membuat objek LLM \n",
    "gemini_10_pro = GoogleGenerativeAI(model = \"gemini-1.0-pro\") # gemini versi 1.0"
   ]
  },
  {
   "cell_type": "markdown",
   "metadata": {},
   "source": [
    "## Mengajukan Pertanyaan ke Model"
   ]
  },
  {
   "cell_type": "markdown",
   "metadata": {},
   "source": [
    "Sekarang, model sudah siap digunakan. Untuk mencobanya, mari kita ajukan sebuah pertanyaan sederhana kepada model."
   ]
  },
  {
   "cell_type": "code",
   "execution_count": 5,
   "metadata": {},
   "outputs": [
    {
     "data": {
      "text/plain": [
       "'Joko Widodo'"
      ]
     },
     "execution_count": 5,
     "metadata": {},
     "output_type": "execute_result"
    }
   ],
   "source": [
    "# memberi pertanyaan dengan method .invoke()\n",
    "gemini_10_pro.invoke('Who is the new president of Indonesia?')"
   ]
  },
  {
   "cell_type": "markdown",
   "metadata": {},
   "source": [
    "Model akan memproses permintaan tersebut dan memberikan jawaban berdasarkan pengetahuan yang dimilikinya."
   ]
  },
  {
   "cell_type": "markdown",
   "metadata": {},
   "source": [
    "## Membuat Template untuk Translasi"
   ]
  },
  {
   "cell_type": "markdown",
   "metadata": {},
   "source": [
    "Bagaimana jika kita ingin menerjemahkan sesuatu? Untuk itu, kita perlu mendefinisikan prompt template—sebuah kerangka yang menentukan bagaimana permintaan kita disusun."
   ]
  },
  {
   "cell_type": "code",
   "execution_count": 6,
   "metadata": {},
   "outputs": [],
   "source": [
    "from langchain_core.prompts import PromptTemplate"
   ]
  },
  {
   "cell_type": "markdown",
   "metadata": {},
   "source": [
    "Pertama, kita akan membuat sebuah template untuk menerjemahkan sebuah kalimat ke dalam bahasa Inggris dengan gaya bahasa yang informal."
   ]
  },
  {
   "cell_type": "code",
   "execution_count": 7,
   "metadata": {},
   "outputs": [],
   "source": [
    "# mendefinisikan prompt untuk translasi\n",
    "prompt = PromptTemplate(template = '''\n",
    "                        Translate the following sentence into informal English:\n",
    "                        {sentence}\n",
    "                        ''',\n",
    "                        input_variables = [\"sentence\"]\n",
    ")"
   ]
  },
  {
   "cell_type": "markdown",
   "metadata": {},
   "source": [
    "Untuk mempermudah proses, kita bisa menggabungkan template translasi dan model ke dalam sebuah \"chain\". Ini memungkinkan kita untuk langsung menjalankan tugas end-to-end."
   ]
  },
  {
   "cell_type": "code",
   "execution_count": 8,
   "metadata": {},
   "outputs": [],
   "source": [
    "# membuat chain untuk translasi \n",
    "llm_chain = prompt | gemini_10_pro"
   ]
  },
  {
   "cell_type": "code",
   "execution_count": 9,
   "metadata": {},
   "outputs": [
    {
     "data": {
      "text/plain": [
       "\"I'll be back in 10\""
      ]
     },
     "execution_count": 9,
     "metadata": {},
     "output_type": "execute_result"
    }
   ],
   "source": [
    "# menerjemahkan kalimat dengan method .invoke()\n",
    "llm_chain.invoke({\n",
    "    'sentence': 'Saya akan kembali 10 menit lagi'\n",
    "})"
   ]
  },
  {
   "cell_type": "markdown",
   "metadata": {},
   "source": [
    "## Q&A"
   ]
  },
  {
   "cell_type": "markdown",
   "metadata": {},
   "source": [
    "### Retrieval Augmented Generation"
   ]
  },
  {
   "cell_type": "markdown",
   "metadata": {},
   "source": [
    "🤔 Coba tanyakan pertanyaan berikut kepada LLM!"
   ]
  },
  {
   "cell_type": "code",
   "execution_count": 11,
   "metadata": {},
   "outputs": [
    {
     "data": {
      "text/plain": [
       "'Saya tidak dapat memberikan prediksi mengenai pemenang Pemilu 2024 di Indonesia karena hal tersebut masih terlalu dini untuk diprediksi dan dapat berubah tergantung pada berbagai faktor.'"
      ]
     },
     "execution_count": 11,
     "metadata": {},
     "output_type": "execute_result"
    }
   ],
   "source": [
    "gemini_10_pro.invoke('Siapa pemenang Pemilu 2024 di Indonesia?')"
   ]
  },
  {
   "attachments": {
    "image.png": {
     "image/png": "[encoded data removed]"
    }
   },
   "cell_type": "markdown",
   "metadata": {},
   "source": [
    "Meskipun memiliki kemampuan yang powerful untuk mengerjakan task yang berkaitan dengan bahasa, LLM memiliki **knowledge cutoff**. Knowledge cutoff merupakan batas pengetahuan yang dimiliki oleh LLM karena resource untuk men-training LLM berhenti pada titik waktu tertentu. \n",
    "\n",
    "> ℹ️ Untuk Gemini, knowledge cutoff-nya adalah November 2023.\n",
    "\n",
    "![image.png](attachment:image.png)\n",
    "\n",
    "Dengan demikian, pengetahuan LLM tentang peristiwa dan informasi setelah knowledge cutoff tersebut mungkin terbatas atau tidak ada sama sekali."
   ]
  },
  {
   "cell_type": "markdown",
   "metadata": {},
   "source": [
    "Pada segmen ini, kita akan memuat semua library yang dibutuhkan dan menginisialisasi model generatif dari Google, yaitu gemini-1.0-pro. Model ini akan digunakan untuk menjawab pertanyaan berbasis dokumen. Selain itu, environment variables akan dimuat untuk memastikan konfigurasi seperti API key tersedia."
   ]
  },
  {
   "cell_type": "markdown",
   "metadata": {},
   "source": [
    "## Import dan Inisialisasi LLM"
   ]
  },
  {
   "cell_type": "code",
   "execution_count": 1,
   "metadata": {},
   "outputs": [],
   "source": [
    "import os\n",
    "from dotenv import load_dotenv\n",
    "from langchain_google_genai import GoogleGenerativeAI, GoogleGenerativeAIEmbeddings, ChatGoogleGenerativeAI\n",
    "from langchain_community.vectorstores import Chroma\n",
    "from langchain.document_loaders import PyPDFLoader\n",
    "from langchain.text_splitter import RecursiveCharacterTextSplitter\n",
    "from langchain_core.prompts import PromptTemplate\n",
    "from langchain_core.runnables import RunnablePassthrough\n",
    "from langchain_core.output_parsers import StrOutputParser\n",
    "import textwrap"
   ]
  },
  {
   "cell_type": "code",
   "execution_count": 2,
   "metadata": {},
   "outputs": [],
   "source": [
    "# Load environment variables\n",
    "load_dotenv()\n",
    "\n",
    "# Inisialisasi model Google Generative AI dan embeddings\n",
    "gemini_10_pro = GoogleGenerativeAI(model=\"gemini-1.0-pro\")"
   ]
  },
  {
   "cell_type": "markdown",
   "metadata": {},
   "source": [
    "Semua library penting telah diimpor.\n",
    "Model generatif gemini-1.5-pro telah berhasil diinisialisasi dan siap digunakan untuk menghasilkan jawaban berbasis konteks.\n",
    "Environment variables telah dimuat untuk memastikan konfigurasi aplikasi."
   ]
  },
  {
   "cell_type": "markdown",
   "metadata": {},
   "source": [
    "Pada segmen ini, dokumen PDF akan dibaca menggunakan PyPDFLoader. Setelah teks dokumen berhasil dimuat, kita akan membagi dokumen tersebut menjadi potongan-potongan kecil (chunks) menggunakan RecursiveCharacterTextSplitter. Chunking diperlukan untuk mempermudah pembuatan embedding dan pencarian konteks."
   ]
  },
  {
   "cell_type": "markdown",
   "metadata": {},
   "source": [
    "## Membaca PDF dan Membagi Teks"
   ]
  },
  {
   "cell_type": "code",
   "execution_count": 3,
   "metadata": {},
   "outputs": [],
   "source": [
    "# Path file PDF yang akan dibaca\n",
    "file_path = \"data_input/transformer_ts.pdf\"  # Ganti dengan path file PDF Anda\n",
    "\n",
    "# Membaca file PDF dengan PyPDFLoader\n",
    "pdf_loader = PyPDFLoader(file_path, extract_images=True)  # `extract_images=True` untuk mengekstrak informasi dari gambar\n",
    "pdf_data = pdf_loader.load()"
   ]
  },
  {
   "cell_type": "code",
   "execution_count": 4,
   "metadata": {},
   "outputs": [
    {
     "name": "stdout",
     "output_type": "stream",
     "text": [
      "Dokumen dibagi menjadi 95 potongan teks.\n"
     ]
    }
   ],
   "source": [
    "text_splitter = RecursiveCharacterTextSplitter(\n",
    "    chunk_size=1000,\n",
    "    chunk_overlap=450,\n",
    "    separators=[\n",
    "        \"\\n\\n\", \"\\n\", \" \", \".\", \",\", \"\\u200b\", \"\\uff0c\", \"\\u3001\", \"\\uff0e\", \"\\u3002\", \"\"\n",
    "    ]\n",
    ")\n",
    "splits = text_splitter.split_documents(pdf_data)\n",
    "print(f\"Dokumen dibagi menjadi {len(splits)} potongan teks.\")"
   ]
  },
  {
   "cell_type": "markdown",
   "metadata": {},
   "source": [
    "Penjelasan:\n",
    "\n",
    "1. Membaca PDF:\n",
    "\n",
    "- PyPDFLoader digunakan untuk memuat file PDF.\n",
    "\n",
    "- Parameter extract_images=True memungkinkan ekstraksi teks dan informasi dari gambar dalam PDF.\n",
    "\n",
    "2. Membagi Teks:\n",
    "\n",
    "- RecursiveCharacterTextSplitter digunakan untuk membagi dokumen menjadi chunks:\n",
    "\n",
    "     * chunk_size=1000: Panjang maksimum per chunk adalah 1000 karakter.\n",
    "    * chunk_overlap=450: Overlap antar-chunk menjaga konteks.\n",
    "    * separators: Separator yang digunakan untuk menentukan titik pemotongan."
   ]
  },
  {
   "cell_type": "markdown",
   "metadata": {},
   "source": [
    "Teks dari PDF telah berhasil dibaca, termasuk informasi dari gambar jika tersedia (karena extract_images=True).\n",
    "Dokumen dibagi menjadi potongan-potongan kecil dengan panjang maksimal 1000 karakter, dengan overlap 450 karakter untuk menjaga konteks antar-chunk."
   ]
  },
  {
   "cell_type": "markdown",
   "metadata": {},
   "source": [
    "## Inisialisasi dan Menyimpan Embedding"
   ]
  },
  {
   "cell_type": "markdown",
   "metadata": {},
   "source": [
    " Di segmen ini, kita akan menginisialisasi model embedding dan membuat representasi vektor (embedding) dari chunks dokumen. Embedding ini akan disimpan ke direktori tertentu menggunakan Chroma agar dapat digunakan kembali tanpa harus membuat ulang."
   ]
  },
  {
   "cell_type": "code",
   "execution_count": 5,
   "metadata": {},
   "outputs": [
    {
     "name": "stdout",
     "output_type": "stream",
     "text": [
      "Model embedding berhasil diinisialisasi dengan model default.\n"
     ]
    }
   ],
   "source": [
    "# Inisialisasi model embedding tanpa menentukan model eksplisit\n",
    "embedding_model = GoogleGenerativeAIEmbeddings(model=\"models/embedding-001\")  # Menggunakan model default\n",
    "print(\"Model embedding berhasil diinisialisasi dengan model default.\")\n",
    "\n",
    "# Fungsi untuk membuat dan menyimpan embedding ke Chroma\n",
    "def create_vectorstore_folder(documents, embedding, persist_directory):\n",
    "    vectorstore = Chroma.from_documents(\n",
    "        documents=documents, \n",
    "        embedding=embedding,\n",
    "        persist_directory=persist_directory\n",
    "    )\n",
    "    return vectorstore\n",
    "\n",
    "persist_directory = 'data_input/chroma_gemini'"
   ]
  },
  {
   "cell_type": "markdown",
   "metadata": {},
   "source": [
    "* Fungsi create_vectorstore_folder:\n",
    "    * Membuat vectorstore (penyimpanan embedding) dari dokumen chunks.\n",
    "    * Parameter:\n",
    "        * documents: Daftar chunks teks yang dipecah di Segmen 2.\n",
    "        * embedding: Model embedding yang digunakan untuk memproses chunks menjadi vektor.\n",
    "        * persist_directory: Lokasi penyimpanan embedding hasil proses.\n",
    "* Output:\n",
    "Vectorstore dengan embedding dari dokumen disimpan di lokasi yang ditentukan.\n"
   ]
  },
  {
   "cell_type": "code",
   "execution_count": 6,
   "metadata": {},
   "outputs": [
    {
     "name": "stdout",
     "output_type": "stream",
     "text": [
      "Embedding berhasil dibuat dan disimpan di Chroma.\n"
     ]
    }
   ],
   "source": [
    "# Membuat dan menyimpan embedding (dijalankan hanya saat pertama kali)\n",
    "vectorstore_gemini = create_vectorstore_folder(\n",
    "    documents=splits,\n",
    "    embedding=embedding_model,\n",
    "    persist_directory=persist_directory\n",
    ")\n",
    "print(\"Embedding berhasil dibuat dan disimpan di Chroma.\")\n"
   ]
  },
  {
   "cell_type": "markdown",
   "metadata": {},
   "source": [
    "* create_vectorstore_folder:\n",
    "\n",
    "    * Memproses chunks dokumen (splits) menjadi embedding menggunakan embedding_model.\n",
    "    * Hasil embedding disimpan di direktori data_input/chroma_gemini.\n",
    "\n",
    "* Output:\n",
    "Embedding dari dokumen telah berhasil dibuat dan disimpan."
   ]
  },
  {
   "cell_type": "markdown",
   "metadata": {},
   "source": [
    "Embedding dari chunks dokumen berhasil dibuat menggunakan GoogleGenerativeAIEmbeddings.\n",
    "Embedding disimpan di direktori data_input/chroma_gemini untuk mempermudah pencarian konteks di langkah berikutnya."
   ]
  },
  {
   "cell_type": "markdown",
   "metadata": {},
   "source": [
    "## Memanggil Embedding yang Sudah Disimpan"
   ]
  },
  {
   "cell_type": "markdown",
   "metadata": {},
   "source": [
    "Jika embedding sudah pernah dibuat dan disimpan sebelumnya, kita dapat langsung memuat embedding tersebut tanpa membuat ulang. Ini menghemat waktu dan sumber daya."
   ]
  },
  {
   "cell_type": "code",
   "execution_count": 7,
   "metadata": {},
   "outputs": [
    {
     "name": "stdout",
     "output_type": "stream",
     "text": [
      "Embedding berhasil dimuat dari direktori.\n"
     ]
    }
   ],
   "source": [
    "# Memanggil embedding dari direktori yang sudah disimpan\n",
    "vec_gemini = Chroma(\n",
    "    persist_directory='data_input/chroma_gemini',\n",
    "    embedding_function=embedding_model\n",
    ")\n",
    "print(\"Embedding berhasil dimuat dari direktori.\")\n"
   ]
  },
  {
   "cell_type": "markdown",
   "metadata": {},
   "source": [
    "Embedding berhasil dimuat dari direktori yang telah disimpan (data_input/chroma_gemini). Sistem siap untuk menggunakan embedding ini untuk pencarian konteks."
   ]
  },
  {
   "cell_type": "markdown",
   "metadata": {},
   "source": [
    "## Membuat Prompt dan Chain RAG"
   ]
  },
  {
   "cell_type": "markdown",
   "metadata": {},
   "source": [
    "Di segmen ini, kita akan membuat template prompt untuk LLM dan membangun chain Retrieval-Augmented Generation (RAG). Chain ini akan menggabungkan retriever, prompt, dan LLM untuk menjawab pertanyaan berbasis dokumen."
   ]
  },
  {
   "cell_type": "code",
   "execution_count": 8,
   "metadata": {},
   "outputs": [],
   "source": [
    "# Fungsi untuk memformat dokumen\n",
    "def format_docs(docs):\n",
    "    return \"\\n\\n\".join(doc.page_content for doc in docs)\n",
    "\n",
    "# Template untuk prompt\n",
    "qa_template = \"\"\"\n",
    "    You are the great assistant in understanding additional context.\n",
    "    Use the following pieces of context to answer the question at the end.\n",
    "    Use the minimum of three sentences to answer the question. \n",
    "    Try your best to answer as complete as possible with easy style of English.\n",
    "    Always say \"thanks for asking!\" at the end of the answer.\n",
    "\n",
    "    {context}\n",
    "\n",
    "    Question: {question}\n",
    "\n",
    "    Helpful Answer:\"\"\"\n",
    "\n",
    "custom_rag_prompt = PromptTemplate.from_template(qa_template)\n"
   ]
  },
  {
   "cell_type": "markdown",
   "metadata": {},
   "source": [
    "Perhatikan pada saat kita mendefinisikan template prompt, terdapat 2 placeholder: `{context}` dan `{question}`.\n",
    "\n",
    "* Value untuk `{context}` berasal dari vector database.\n",
    "* Value untuk `{question}` berasal dari pertanyaan pengguna pada saat menjalankan chain."
   ]
  },
  {
   "cell_type": "code",
   "execution_count": 9,
   "metadata": {},
   "outputs": [
    {
     "name": "stdout",
     "output_type": "stream",
     "text": [
      "Chain RAG berhasil dibuat.\n"
     ]
    }
   ],
   "source": [
    "# Fungsi untuk membuat chain RAG\n",
    "def create_qa_chain(retriever, llm):\n",
    "    rag_chain = (\n",
    "        {\"context\": retriever | format_docs, \"question\": RunnablePassthrough()}\n",
    "        | custom_rag_prompt\n",
    "        | llm\n",
    "        | StrOutputParser()\n",
    "    )\n",
    "    return rag_chain\n",
    "\n",
    "# Membuat chain RAG menggunakan retriever dan LLM\n",
    "gemini_chain = create_qa_chain(\n",
    "    retriever=vec_gemini.as_retriever(),\n",
    "    llm=ChatGoogleGenerativeAI(model=\"gemini-pro\")\n",
    ")\n",
    "print(\"Chain RAG berhasil dibuat.\")"
   ]
  },
  {
   "cell_type": "markdown",
   "metadata": {},
   "source": [
    "Pada kode di atas, kita membuat sebuah fungsi untuk membuat chain untuk Q&A. Chain untuk Q&A di atas terdiri atas beberapa komponen:\n",
    "\n",
    "*  `custom_rag_prompt` yang merupakan prompt untuk mengarahkan output dari LLM.\n",
    "* `llm` yang akan berinteraksi dengan pengguna.\n",
    "* `StrOutputParser()` yang akan menangkap output dari LLM."
   ]
  },
  {
   "cell_type": "markdown",
   "metadata": {},
   "source": [
    "Template prompt berhasil dibuat dengan instruksi khusus untuk menjawab pertanyaan.\n",
    "Chain RAG yang menggabungkan retriever, prompt, dan LLM berhasil dibangun."
   ]
  },
  {
   "cell_type": "markdown",
   "metadata": {},
   "source": [
    "## Menjalankan Chain RAG"
   ]
  },
  {
   "cell_type": "markdown",
   "metadata": {},
   "source": [
    "Pada segmen ini, kita akan mengajukan pertanyaan ke RAG chain dan mendapatkan jawaban berbasis konteks dari dokumen."
   ]
  },
  {
   "cell_type": "code",
   "execution_count": 16,
   "metadata": {},
   "outputs": [
    {
     "name": "stdout",
     "output_type": "stream",
     "text": [
      "\n",
      "Pertanyaan: What is different about GPT, PaLM, LLaMa\n",
      "\n",
      "Jawaban dari RAG Chain:\n",
      "\n",
      "GPT, PaLM, and LLaMa are all large language models (LLMs), but they have different\n",
      "architectures. GPT is a causal decoder, PaLM is a prefix decoder, and LLaMa is a mixture-\n",
      "of-experts model. GPT predicts output tokens one by one, while PaLM predicts a sequence of\n",
      "tokens at once. LLaMa uses a mixture of experts to scale up the model parameters while\n",
      "maintaining a constant computational cost. Thanks for asking!\n"
     ]
    }
   ],
   "source": [
    "# Menjalankan pertanyaan melalui chain RAG\n",
    "question = \"What is different about GPT, PaLM, LLaMa\"\n",
    "print(\"\\nPertanyaan:\", question)\n",
    "\n",
    "answer = gemini_chain.invoke(question)\n",
    "\n",
    "# Menampilkan jawaban dengan format rapi\n",
    "print(\"\\nJawaban dari RAG Chain:\\n\")\n",
    "print(textwrap.fill(answer, width=90))\n"
   ]
  },
  {
   "cell_type": "markdown",
   "metadata": {},
   "source": [
    "Jawaban dari pertanyaan berhasil dihasilkan. Jawaban ini berbasis pada konteks yang diambil dari dokumen dan diformat rapi."
   ]
  }
 ],
 "metadata": {
  "kernelspec": {
   "display_name": "dss_may2024",
   "language": "python",
   "name": "python3"
  },
  "language_info": {
   "codemirror_mode": {
    "name": "ipython",
    "version": 3
   },
   "file_extension": ".py",
   "mimetype": "text/x-python",
   "name": "python",
   "nbconvert_exporter": "python",
   "pygments_lexer": "ipython3",
   "version": "3.10.14"
  }
 },
 "nbformat": 4,
 "nbformat_minor": 2
}
